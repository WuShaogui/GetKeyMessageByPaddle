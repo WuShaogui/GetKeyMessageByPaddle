{
 "cells": [
  {
   "cell_type": "markdown",
   "metadata": {},
   "source": [
    "## 安装环境"
   ]
  },
  {
   "cell_type": "markdown",
   "metadata": {},
   "source": [
    "1. 新建虚拟环境\n",
    "\n",
    "conda create -n paddle python=3.9 --yes\n",
    "\n",
    "2. 激活虚拟环境\n",
    "\n",
    "conda activate paddle\n",
    "\n",
    "3. 安装依赖软件\n",
    "\n",
    "conda install paddlepaddle-gpu cudatoolkit\n",
    "python -m pip install opencv-contrib-python==4.4.0.46 paddleocr paddlenlp==2.4"
   ]
  },
  {
   "cell_type": "markdown",
   "metadata": {},
   "source": [
    "## 测试环境"
   ]
  },
  {
   "cell_type": "code",
   "execution_count": 1,
   "metadata": {},
   "outputs": [
    {
     "data": {
      "text/plain": [
       "True"
      ]
     },
     "execution_count": 1,
     "metadata": {},
     "output_type": "execute_result"
    }
   ],
   "source": [
    "import paddle # type: ignore\n",
    "paddle.device.is_compiled_with_cuda()"
   ]
  },
  {
   "cell_type": "markdown",
   "metadata": {},
   "source": [
    "## 跑流程"
   ]
  },
  {
   "cell_type": "markdown",
   "metadata": {},
   "source": [
    "### 提取图片上的文字"
   ]
  },
  {
   "cell_type": "code",
   "execution_count": 2,
   "metadata": {},
   "outputs": [
    {
     "name": "stdout",
     "output_type": "stream",
     "text": [
      "[2024/04/10 10:45:41] ppocr DEBUG: Namespace(help='==SUPPRESS==', use_gpu=True, use_xpu=False, use_npu=False, ir_optim=True, use_tensorrt=False, min_subgraph_size=15, precision='fp32', gpu_mem=500, gpu_id=0, image_dir=None, page_num=0, det_algorithm='DB', det_model_dir='/home/wushaogui/.paddleocr/whl/det/ch/ch_PP-OCRv4_det_infer', det_limit_side_len=960, det_limit_type='max', det_box_type='quad', det_db_thresh=0.3, det_db_box_thresh=0.3, det_db_unclip_ratio=1.5, max_batch_size=10, use_dilation=True, det_db_score_mode='fast', det_east_score_thresh=0.8, det_east_cover_thresh=0.1, det_east_nms_thresh=0.2, det_sast_score_thresh=0.5, det_sast_nms_thresh=0.2, det_pse_thresh=0, det_pse_box_thresh=0.85, det_pse_min_area=16, det_pse_scale=1, scales=[8, 16, 32], alpha=1.0, beta=1.0, fourier_degree=5, rec_algorithm='SVTR_LCNet', rec_model_dir='/home/wushaogui/.paddleocr/whl/rec/ch/ch_PP-OCRv4_rec_infer', rec_image_inverse=True, rec_image_shape='3, 48, 320', rec_batch_num=6, max_text_length=25, rec_char_dict_path='/home/wushaogui/anaconda3/envs/paddle/lib/python3.9/site-packages/paddleocr/ppocr/utils/ppocr_keys_v1.txt', use_space_char=True, vis_font_path='./doc/fonts/simfang.ttf', drop_score=0.5, e2e_algorithm='PGNet', e2e_model_dir=None, e2e_limit_side_len=768, e2e_limit_type='max', e2e_pgnet_score_thresh=0.5, e2e_char_dict_path='./ppocr/utils/ic15_dict.txt', e2e_pgnet_valid_set='totaltext', e2e_pgnet_mode='fast', use_angle_cls=False, cls_model_dir='/home/wushaogui/.paddleocr/whl/cls/ch_ppocr_mobile_v2.0_cls_infer', cls_image_shape='3, 48, 192', label_list=['0', '180'], cls_batch_num=6, cls_thresh=0.9, enable_mkldnn=False, cpu_threads=10, use_pdserving=False, warmup=False, sr_model_dir=None, sr_image_shape='3, 32, 128', sr_batch_num=1, draw_img_save_dir='./inference_results', save_crop_res=False, crop_res_save_dir='./output', use_mp=False, total_process_num=1, process_id=0, benchmark=False, save_log_path='./log_output/', show_log=True, use_onnx=False, output='./output', table_max_len=488, table_algorithm='TableAttn', table_model_dir=None, merge_no_span_structure=True, table_char_dict_path=None, layout_model_dir=None, layout_dict_path=None, layout_score_threshold=0.5, layout_nms_threshold=0.5, kie_algorithm='LayoutXLM', ser_model_dir=None, re_model_dir=None, use_visual_backbone=True, ser_dict_path='../train_data/XFUND/class_list_xfun.txt', ocr_order_method=None, mode='structure', image_orientation=False, layout=True, table=True, ocr=True, recovery=False, use_pdf2docx_api=False, invert=False, binarize=False, alphacolor=(255, 255, 255), lang='ch', det=True, rec=True, type='ocr', ocr_version='PP-OCRv4', structure_version='PP-StructureV2')\n",
      "[2024/04/10 10:45:47] ppocr DEBUG: dt_boxes num : 22, elapsed : 1.3760530948638916\n",
      "[2024/04/10 10:45:48] ppocr DEBUG: rec_res num  : 22, elapsed : 0.537989616394043\n",
      "合同书\n",
      "甲方：叶县环境保护局\n",
      "乙方：叶县建昆市政工程有限公司\n",
      "依照《中华人民共和国合同法》、《中华人民共和国建筑\n",
      "法》及其他有关法规，经公开招投标，依据中标通知书及相\n",
      "关材料，甲乙双方充分友好协商，就叶县环境空气质量自动\n",
      "监测站建设工程达成一致，特订立本合同。\n",
      "一、工程概况\n",
      "工程名称：叶县环境空气质量自动监测站建设工程\n",
      "工程地点：叶县\n",
      "工程内容：施工图设计范围内招标人发包的内容\n",
      "承包范围：详见工程量清单\n",
      "二：工程质量标准：合格\n",
      "三：合同价格：总价为人民币大写：叁拾玖万捌仟伍佰\n",
      "元，小写：398500.00元。总价中包括站房工程建设、安装\n",
      "及相关避雷、消防、接地、电力、材料费、检验费、安全、\n",
      "验收等所需费用及其他相关费用和税金。\n",
      "四、乙方保证站房建设需符合环保部 HJ655-2013，、\n",
      "HJ193-2013技术规范要求和国家相关规定。材料符合国家消\n",
      "防B+1 级要求。该房建好后做的三不透，不透光、不透雨、\n",
      "不透风。在楼顶安装安全设施、避雷设施和仪器前端加装防\n"
     ]
    }
   ],
   "source": [
    "from paddleocr import PaddleOCR, draw_ocr  # type: ignore\n",
    "from PIL import Image\n",
    "import cv2\n",
    "import numpy as np\n",
    "import matplotlib.pyplot as plt\n",
    "\n",
    "# paddleocr目前支持中英文、英文、法语、德语、韩语、日语等80个语种，可以通过修改lang参数进行切换\n",
    "ocr = PaddleOCR(use_angle_cls=False, lang=\"ch\", det_db_box_thresh=0.3, use_dilation=True)\n",
    "# 印章部分造成的文本遮盖，影响了文本识别结果，因此可以考虑通道提取，去除图片中的红色印章\n",
    "#读入图像,三通道\n",
    "image=cv2.imread(\"./test_img/hetong2.jpg\",cv2.IMREAD_COLOR) #timg.jpeg\n",
    "#获得三个通道\n",
    "Bch,Gch,Rch=cv2.split(image)\n",
    "#保存三通道图片\n",
    "cv2.imwrite('blue_channel.jpg',Bch)\n",
    "cv2.imwrite('green_channel.jpg',Gch)\n",
    "cv2.imwrite('red_channel.jpg',Rch)\n",
    "\n",
    "# 合同文本信息提取\n",
    "# 合同照片的红色通道被分离，获得了一张相对更干净的图片，此时可以再次使用ppocr模型提取文本内容\n",
    "img_path = './red_channel.jpg' # 使用红色通道图片排除印章影响\n",
    "result = ocr.ocr(img_path, cls=False)\n",
    "# 可视化结果，不想可视化可以注释下面几行代码\n",
    "image = Image.open(img_path).convert('RGB')\n",
    "boxes = [line[0] for line in result[0]]\n",
    "txts = [line[1][0] for line in result[0]]\n",
    "scores = [line[1][1] for line in result[0]]\n",
    "im_show = draw_ocr(image, boxes, txts, scores, font_path='./simfang.ttf')\n",
    "im_show = Image.fromarray(im_show)\n",
    "vis = np.array(im_show)\n",
    "# im_show.show()\n",
    "#忽略检测框内容，提取完整的合同文本：\n",
    "txts = [line[1][0] for line in result[0]]\n",
    "all_context = \"\\n\".join(txts)\n",
    "print(all_context)"
   ]
  },
  {
   "cell_type": "markdown",
   "metadata": {},
   "source": [
    "### 关键信息抽取"
   ]
  },
  {
   "cell_type": "code",
   "execution_count": 3,
   "metadata": {},
   "outputs": [
    {
     "name": "stderr",
     "output_type": "stream",
     "text": [
      "\u001b[32m[2024-04-10 10:45:52,788] [    INFO]\u001b[0m - We are using <class 'paddlenlp.transformers.ernie.tokenizer.ErnieTokenizer'> to load '/home/wushaogui/.paddlenlp/taskflow/information_extraction/uie-base'.\u001b[0m\n"
     ]
    },
    {
     "name": "stdout",
     "output_type": "stream",
     "text": [
      "[{'甲方': [{'text': '叶县环境保护局', 'start': 7, 'end': 14, 'probability': 0.917740431307351}], '乙方': [{'text': '叶县建昆市政工程有限公司', 'start': 18, 'end': 30, 'probability': 0.8452281982384093}], '总价': [{'text': '叁拾玖万捌仟伍佰\\n元', 'start': 232, 'end': 242, 'probability': 0.45385187359959644}], '大写': [{'text': '叁拾玖万捌仟伍佰\\n元', 'start': 232, 'end': 242, 'probability': 0.8590557486922066}], '小写': [{'text': '398500.00元', 'start': 246, 'end': 256, 'probability': 0.9818649483237465}]}]\n"
     ]
    }
   ],
   "source": [
    "from paddlenlp import Taskflow # type: ignore\n",
    "\n",
    "schema = [\"甲方\",\"乙方\",\"总价\",\"大写\",\"小写\",\"项目\"]\n",
    "ie = Taskflow('information_extraction', schema=schema)\n",
    "ie.set_schema(schema)\n",
    "result = ie(all_context)\n",
    "print(result)"
   ]
  }
 ],
 "metadata": {
  "kernelspec": {
   "display_name": "base",
   "language": "python",
   "name": "python3"
  },
  "language_info": {
   "codemirror_mode": {
    "name": "ipython",
    "version": 3
   },
   "file_extension": ".py",
   "mimetype": "text/x-python",
   "name": "python",
   "nbconvert_exporter": "python",
   "pygments_lexer": "ipython3",
   "version": "3.9.12"
  }
 },
 "nbformat": 4,
 "nbformat_minor": 2
}
